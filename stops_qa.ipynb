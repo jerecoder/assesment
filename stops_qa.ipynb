{
 "cells": [
  {
   "cell_type": "code",
   "execution_count": 3,
   "metadata": {},
   "outputs": [
    {
     "data": {
      "text/plain": [
       "True"
      ]
     },
     "execution_count": 3,
     "metadata": {},
     "output_type": "execute_result"
    }
   ],
   "source": [
    "from dotenv import load_dotenv\n",
    "import logging\n",
    "from rich.console import Console\n",
    "from rich.prompt import Prompt\n",
    "\n",
    "from stops_qa import (\n",
    "    setup_database,\n",
    "    load_data_to_db,\n",
    "    create_sql_generator,\n",
    "    execute_query,\n",
    "    display_query_result,\n",
    "    display_welcome,\n",
    "    TEXTOS\n",
    ")\n",
    "\n",
    "logging.basicConfig(level=logging.INFO)\n",
    "logger = logging.getLogger(__name__)\n",
    "console = Console()\n",
    "load_dotenv()"
   ]
  },
  {
   "cell_type": "code",
   "execution_count": 4,
   "metadata": {},
   "outputs": [
    {
     "data": {
      "text/html": [
       "<pre style=\"white-space:pre;overflow-x:auto;line-height:normal;font-family:Menlo,'DejaVu Sans Mono',consolas,'Courier New',monospace\"></pre>\n"
      ],
      "text/plain": []
     },
     "metadata": {},
     "output_type": "display_data"
    },
    {
     "data": {
      "text/html": [
       "<pre style=\"white-space:pre;overflow-x:auto;line-height:normal;font-family:Menlo,'DejaVu Sans Mono',consolas,'Courier New',monospace\"><span style=\"color: #008000; text-decoration-color: #008000\">✓</span> Cargados <span style=\"color: #008080; text-decoration-color: #008080; font-weight: bold\">1422</span> registros en la base de datos.\n",
       "</pre>\n"
      ],
      "text/plain": [
       "\u001b[32m✓\u001b[0m Cargados \u001b[1;36m1422\u001b[0m registros en la base de datos.\n"
      ]
     },
     "metadata": {},
     "output_type": "display_data"
    },
    {
     "data": {
      "text/html": [
       "<pre style=\"white-space:pre;overflow-x:auto;line-height:normal;font-family:Menlo,'DejaVu Sans Mono',consolas,'Courier New',monospace\"></pre>\n"
      ],
      "text/plain": []
     },
     "metadata": {},
     "output_type": "display_data"
    },
    {
     "data": {
      "text/html": [
       "<pre style=\"white-space:pre;overflow-x:auto;line-height:normal;font-family:Menlo,'DejaVu Sans Mono',consolas,'Courier New',monospace\"><span style=\"color: #000080; text-decoration-color: #000080\">╭─────────────────────────────────── </span><span style=\"color: #000080; text-decoration-color: #000080; font-weight: bold\">Sistema de Análisis de Paradas de Máquina</span><span style=\"color: #000080; text-decoration-color: #000080\"> ───────────────────────────────────╮</span>\n",
       "<span style=\"color: #000080; text-decoration-color: #000080\">│</span>                                                                                                                 <span style=\"color: #000080; text-decoration-color: #000080\">│</span>\n",
       "<span style=\"color: #000080; text-decoration-color: #000080\">│</span> <span style=\"color: #000080; text-decoration-color: #000080; font-weight: bold\">¡Bienvenido a StopQuery!</span>                                                                                        <span style=\"color: #000080; text-decoration-color: #000080\">│</span>\n",
       "<span style=\"color: #000080; text-decoration-color: #000080\">│</span>                                                                                                                 <span style=\"color: #000080; text-decoration-color: #000080\">│</span>\n",
       "<span style=\"color: #000080; text-decoration-color: #000080\">│</span> Este sistema te permite hacer preguntas en lenguaje natural sobre las paradas                                   <span style=\"color: #000080; text-decoration-color: #000080\">│</span>\n",
       "<span style=\"color: #000080; text-decoration-color: #000080\">│</span> de máquina y las convierte en consultas SQL para su análisis.                                                   <span style=\"color: #000080; text-decoration-color: #000080\">│</span>\n",
       "<span style=\"color: #000080; text-decoration-color: #000080\">│</span>                                                                                                                 <span style=\"color: #000080; text-decoration-color: #000080\">│</span>\n",
       "<span style=\"color: #000080; text-decoration-color: #000080\">│</span> <span style=\"color: #008000; text-decoration-color: #008000; font-weight: bold\">Ejemplos de Preguntas:</span>                                                                                          <span style=\"color: #000080; text-decoration-color: #000080\">│</span>\n",
       "<span style=\"color: #000080; text-decoration-color: #000080\">│</span> • ¿Cuántas paradas ocurrieron el 1 de enero?                                                                    <span style=\"color: #000080; text-decoration-color: #000080\">│</span>\n",
       "<span style=\"color: #000080; text-decoration-color: #000080\">│</span> • Lista todas las paradas causadas por 'Die Head Cleaning'                                                      <span style=\"color: #000080; text-decoration-color: #000080\">│</span>\n",
       "<span style=\"color: #000080; text-decoration-color: #000080\">│</span> • ¿Cuál es la duración promedio de cada tipo de parada?                                                         <span style=\"color: #000080; text-decoration-color: #000080\">│</span>\n",
       "<span style=\"color: #000080; text-decoration-color: #000080\">│</span> • ¿Qué hora del día tuvo la duración total de paradas más larga?                                                <span style=\"color: #000080; text-decoration-color: #000080\">│</span>\n",
       "<span style=\"color: #000080; text-decoration-color: #000080\">│</span>                                                                                                                 <span style=\"color: #000080; text-decoration-color: #000080\">│</span>\n",
       "<span style=\"color: #000080; text-decoration-color: #000080\">│</span> <span style=\"color: #808000; text-decoration-color: #808000; font-weight: bold\">Escribe 'exit' para salir</span>                                                                                       <span style=\"color: #000080; text-decoration-color: #000080\">│</span>\n",
       "<span style=\"color: #000080; text-decoration-color: #000080\">│</span>                                                                                                                 <span style=\"color: #000080; text-decoration-color: #000080\">│</span>\n",
       "<span style=\"color: #000080; text-decoration-color: #000080\">╰─────────────────────────────────────────────────────────────────────────────────────────────────────────────────╯</span>\n",
       "</pre>\n"
      ],
      "text/plain": [
       "\u001b[34m╭─\u001b[0m\u001b[34m──────────────────────────────────\u001b[0m\u001b[34m \u001b[0m\u001b[1;34mSistema de Análisis de Paradas de Máquina\u001b[0m\u001b[34m \u001b[0m\u001b[34m──────────────────────────────────\u001b[0m\u001b[34m─╮\u001b[0m\n",
       "\u001b[34m│\u001b[0m                                                                                                                 \u001b[34m│\u001b[0m\n",
       "\u001b[34m│\u001b[0m \u001b[1;34m¡Bienvenido a StopQuery!\u001b[0m                                                                                        \u001b[34m│\u001b[0m\n",
       "\u001b[34m│\u001b[0m                                                                                                                 \u001b[34m│\u001b[0m\n",
       "\u001b[34m│\u001b[0m Este sistema te permite hacer preguntas en lenguaje natural sobre las paradas                                   \u001b[34m│\u001b[0m\n",
       "\u001b[34m│\u001b[0m de máquina y las convierte en consultas SQL para su análisis.                                                   \u001b[34m│\u001b[0m\n",
       "\u001b[34m│\u001b[0m                                                                                                                 \u001b[34m│\u001b[0m\n",
       "\u001b[34m│\u001b[0m \u001b[1;32mEjemplos de Preguntas:\u001b[0m                                                                                          \u001b[34m│\u001b[0m\n",
       "\u001b[34m│\u001b[0m • ¿Cuántas paradas ocurrieron el 1 de enero?                                                                    \u001b[34m│\u001b[0m\n",
       "\u001b[34m│\u001b[0m • Lista todas las paradas causadas por 'Die Head Cleaning'                                                      \u001b[34m│\u001b[0m\n",
       "\u001b[34m│\u001b[0m • ¿Cuál es la duración promedio de cada tipo de parada?                                                         \u001b[34m│\u001b[0m\n",
       "\u001b[34m│\u001b[0m • ¿Qué hora del día tuvo la duración total de paradas más larga?                                                \u001b[34m│\u001b[0m\n",
       "\u001b[34m│\u001b[0m                                                                                                                 \u001b[34m│\u001b[0m\n",
       "\u001b[34m│\u001b[0m \u001b[1;33mEscribe 'exit' para salir\u001b[0m                                                                                       \u001b[34m│\u001b[0m\n",
       "\u001b[34m│\u001b[0m                                                                                                                 \u001b[34m│\u001b[0m\n",
       "\u001b[34m╰─────────────────────────────────────────────────────────────────────────────────────────────────────────────────╯\u001b[0m\n"
      ]
     },
     "metadata": {},
     "output_type": "display_data"
    },
    {
     "data": {
      "application/vnd.jupyter.widget-view+json": {
       "model_id": "d9001a4bfa804d70a700c024c8d4ac13",
       "version_major": 2,
       "version_minor": 0
      },
      "text/plain": [
       "Output()"
      ]
     },
     "metadata": {},
     "output_type": "display_data"
    },
    {
     "name": "stderr",
     "output_type": "stream",
     "text": [
      "INFO:httpx:HTTP Request: POST https://api.openai.com/v1/chat/completions \"HTTP/1.1 200 OK\"\n"
     ]
    },
    {
     "data": {
      "text/html": [
       "<pre style=\"white-space:pre;overflow-x:auto;line-height:normal;font-family:Menlo,'DejaVu Sans Mono',consolas,'Courier New',monospace\"></pre>\n"
      ],
      "text/plain": []
     },
     "metadata": {},
     "output_type": "display_data"
    },
    {
     "name": "stderr",
     "output_type": "stream",
     "text": [
      "INFO:stops_qa:Ejecutando SQL: SELECT stop_type_id, stop_type_name, AVG(duration_minutes) AS avg_duration\n",
      "FROM stops\n",
      "GROUP BY stop_type_id, stop_type_name;\n"
     ]
    },
    {
     "data": {
      "text/html": [
       "<pre style=\"white-space:pre;overflow-x:auto;line-height:normal;font-family:Menlo,'DejaVu Sans Mono',consolas,'Courier New',monospace\">\n",
       "<span style=\"color: #008080; text-decoration-color: #008080; font-weight: bold\">Consulta SQL Generada:</span>\n",
       "</pre>\n"
      ],
      "text/plain": [
       "\n",
       "\u001b[1;36mConsulta SQL Generada:\u001b[0m\n"
      ]
     },
     "metadata": {},
     "output_type": "display_data"
    },
    {
     "data": {
      "text/html": [
       "<pre style=\"white-space:pre;overflow-x:auto;line-height:normal;font-family:Menlo,'DejaVu Sans Mono',consolas,'Courier New',monospace\"><span style=\"color: #66d9ef; text-decoration-color: #66d9ef; background-color: #272822\">SELECT</span><span style=\"color: #f8f8f2; text-decoration-color: #f8f8f2; background-color: #272822\"> stop_type_id, stop_type_name, </span><span style=\"color: #66d9ef; text-decoration-color: #66d9ef; background-color: #272822\">AVG</span><span style=\"color: #f8f8f2; text-decoration-color: #f8f8f2; background-color: #272822\">(duration_minutes) </span><span style=\"color: #66d9ef; text-decoration-color: #66d9ef; background-color: #272822\">AS</span><span style=\"color: #f8f8f2; text-decoration-color: #f8f8f2; background-color: #272822\"> avg_duration</span><span style=\"background-color: #272822\">                                         </span>\n",
       "<span style=\"color: #66d9ef; text-decoration-color: #66d9ef; background-color: #272822\">FROM</span><span style=\"color: #f8f8f2; text-decoration-color: #f8f8f2; background-color: #272822\"> stops</span><span style=\"background-color: #272822\">                                                                                                         </span>\n",
       "<span style=\"color: #66d9ef; text-decoration-color: #66d9ef; background-color: #272822\">GROUP</span><span style=\"color: #f8f8f2; text-decoration-color: #f8f8f2; background-color: #272822\"> </span><span style=\"color: #66d9ef; text-decoration-color: #66d9ef; background-color: #272822\">BY</span><span style=\"color: #f8f8f2; text-decoration-color: #f8f8f2; background-color: #272822\"> stop_type_id, stop_type_name;</span><span style=\"background-color: #272822\">                                                                             </span>\n",
       "</pre>\n"
      ],
      "text/plain": [
       "\u001b[38;2;102;217;239;48;2;39;40;34mSELECT\u001b[0m\u001b[38;2;248;248;242;48;2;39;40;34m \u001b[0m\u001b[38;2;248;248;242;48;2;39;40;34mstop_type_id\u001b[0m\u001b[38;2;248;248;242;48;2;39;40;34m,\u001b[0m\u001b[38;2;248;248;242;48;2;39;40;34m \u001b[0m\u001b[38;2;248;248;242;48;2;39;40;34mstop_type_name\u001b[0m\u001b[38;2;248;248;242;48;2;39;40;34m,\u001b[0m\u001b[38;2;248;248;242;48;2;39;40;34m \u001b[0m\u001b[38;2;102;217;239;48;2;39;40;34mAVG\u001b[0m\u001b[38;2;248;248;242;48;2;39;40;34m(\u001b[0m\u001b[38;2;248;248;242;48;2;39;40;34mduration_minutes\u001b[0m\u001b[38;2;248;248;242;48;2;39;40;34m)\u001b[0m\u001b[38;2;248;248;242;48;2;39;40;34m \u001b[0m\u001b[38;2;102;217;239;48;2;39;40;34mAS\u001b[0m\u001b[38;2;248;248;242;48;2;39;40;34m \u001b[0m\u001b[38;2;248;248;242;48;2;39;40;34mavg_duration\u001b[0m\u001b[48;2;39;40;34m                                         \u001b[0m\n",
       "\u001b[38;2;102;217;239;48;2;39;40;34mFROM\u001b[0m\u001b[38;2;248;248;242;48;2;39;40;34m \u001b[0m\u001b[38;2;248;248;242;48;2;39;40;34mstops\u001b[0m\u001b[48;2;39;40;34m                                                                                                         \u001b[0m\n",
       "\u001b[38;2;102;217;239;48;2;39;40;34mGROUP\u001b[0m\u001b[38;2;248;248;242;48;2;39;40;34m \u001b[0m\u001b[38;2;102;217;239;48;2;39;40;34mBY\u001b[0m\u001b[38;2;248;248;242;48;2;39;40;34m \u001b[0m\u001b[38;2;248;248;242;48;2;39;40;34mstop_type_id\u001b[0m\u001b[38;2;248;248;242;48;2;39;40;34m,\u001b[0m\u001b[38;2;248;248;242;48;2;39;40;34m \u001b[0m\u001b[38;2;248;248;242;48;2;39;40;34mstop_type_name\u001b[0m\u001b[38;2;248;248;242;48;2;39;40;34m;\u001b[0m\u001b[48;2;39;40;34m                                                                             \u001b[0m\n"
      ]
     },
     "metadata": {},
     "output_type": "display_data"
    },
    {
     "data": {
      "text/html": [
       "<pre style=\"white-space:pre;overflow-x:auto;line-height:normal;font-family:Menlo,'DejaVu Sans Mono',consolas,'Courier New',monospace\">\n",
       "<span style=\"color: #008000; text-decoration-color: #008000; font-weight: bold\">Resultados:</span>\n",
       "</pre>\n"
      ],
      "text/plain": [
       "\n",
       "\u001b[1;32mResultados:\u001b[0m\n"
      ]
     },
     "metadata": {},
     "output_type": "display_data"
    },
    {
     "data": {
      "text/html": [
       "<pre style=\"white-space:pre;overflow-x:auto;line-height:normal;font-family:Menlo,'DejaVu Sans Mono',consolas,'Courier New',monospace\">┏━━━━━━━━━━━━━━━━━━━━━━━━━━━━━━━━━━━━━━┳━━━━━━━━━━━━━━━━━━━━━━━━━━━━━┳━━━━━━━━━━━━━━━━━━━━┓\n",
       "┃<span style=\"color: #800080; text-decoration-color: #800080; font-weight: bold\"> stop_type_id                         </span>┃<span style=\"color: #800080; text-decoration-color: #800080; font-weight: bold\"> stop_type_name              </span>┃<span style=\"color: #800080; text-decoration-color: #800080; font-weight: bold\"> avg_duration       </span>┃\n",
       "┡━━━━━━━━━━━━━━━━━━━━━━━━━━━━━━━━━━━━━━╇━━━━━━━━━━━━━━━━━━━━━━━━━━━━━╇━━━━━━━━━━━━━━━━━━━━┩\n",
       "│ 010d32a2-0abe-481e-ae14-eda32648b432 │ Pressure Sensor Calibration │ 44.945454545454545 │\n",
       "│ 059d662f-bcd2-4368-950e-60d3ac49898f │ Emergency Safety Stop       │ 58.15              │\n",
       "│ 1ba11308-7a25-4ed9-aea4-daa02fe863e3 │ Cooling System Check        │ 31.035000000000004 │\n",
       "│ 3c251b2a-6fa2-4707-ad22-25858d52ebce │ Screw Wear Inspection       │ 176.03333333333333 │\n",
       "│ 43e0f14d-c79c-47b5-9402-ef93f6e407b0 │ Screen Pack Change          │ 55.502272727272725 │\n",
       "│ 44c73884-5c8e-48a6-a4ed-ee920cddfd7f │ Drive Motor Overload        │ 205.5              │\n",
       "│ 44d3afce-8bc3-4269-9c1b-f630aedb9668 │ Quality Sample Check        │ 9.301428571428572  │\n",
       "│ 4ff8deef-be87-40bf-adb9-8f2e102c1f23 │ Gearbox Maintenance         │ 623.8              │\n",
       "│ 77322f6a-0ed2-4946-809e-654d9badb16c │ Product Dimension Check     │ 11.37361963190184  │\n",
       "│ 855df54a-6b6e-4b9e-b595-e9bd19316236 │ Material Feed Jam           │ 13.92941176470588  │\n",
       "│ 9827a7b1-16df-4eb5-b1ab-8f3d77d031a7 │ Die Head Cleaning           │ 44.62602739726027  │\n",
       "│ a759c756-9ed0-4a00-8c9f-79f3b4bf4c0a │ Temperature Zone Deviation  │ 26.620754716981132 │\n",
       "│ b606124a-58b9-4fa2-943a-5c2f6482b1ed │ Die Lip Cleaning            │ 28.514285714285716 │\n",
       "│ b912146a-7274-4533-9825-214f48b41a6f │ Bearing Temperature Alert   │ 85.3               │\n",
       "│ c1f0d60c-27ef-4c46-8c07-6977c0123e23 │ Hopper Level Warning        │ 8.80062893081761   │\n",
       "│ d0f0c31b-9368-4155-9ad9-b8a9f4755b88 │ Vacuum System Maintenance   │ 60.08              │\n",
       "│ dfc5fa17-0fda-4bd6-9258-2d93df449f8f │ Material Changeover         │ 127.41904761904763 │\n",
       "│ f1024d23-09ec-46e6-8cbd-e026c6c19294 │ Material Contamination      │ 110.43055555555556 │\n",
       "└──────────────────────────────────────┴─────────────────────────────┴────────────────────┘\n",
       "</pre>\n"
      ],
      "text/plain": [
       "┏━━━━━━━━━━━━━━━━━━━━━━━━━━━━━━━━━━━━━━┳━━━━━━━━━━━━━━━━━━━━━━━━━━━━━┳━━━━━━━━━━━━━━━━━━━━┓\n",
       "┃\u001b[1;35m \u001b[0m\u001b[1;35mstop_type_id                        \u001b[0m\u001b[1;35m \u001b[0m┃\u001b[1;35m \u001b[0m\u001b[1;35mstop_type_name             \u001b[0m\u001b[1;35m \u001b[0m┃\u001b[1;35m \u001b[0m\u001b[1;35mavg_duration      \u001b[0m\u001b[1;35m \u001b[0m┃\n",
       "┡━━━━━━━━━━━━━━━━━━━━━━━━━━━━━━━━━━━━━━╇━━━━━━━━━━━━━━━━━━━━━━━━━━━━━╇━━━━━━━━━━━━━━━━━━━━┩\n",
       "│ 010d32a2-0abe-481e-ae14-eda32648b432 │ Pressure Sensor Calibration │ 44.945454545454545 │\n",
       "│ 059d662f-bcd2-4368-950e-60d3ac49898f │ Emergency Safety Stop       │ 58.15              │\n",
       "│ 1ba11308-7a25-4ed9-aea4-daa02fe863e3 │ Cooling System Check        │ 31.035000000000004 │\n",
       "│ 3c251b2a-6fa2-4707-ad22-25858d52ebce │ Screw Wear Inspection       │ 176.03333333333333 │\n",
       "│ 43e0f14d-c79c-47b5-9402-ef93f6e407b0 │ Screen Pack Change          │ 55.502272727272725 │\n",
       "│ 44c73884-5c8e-48a6-a4ed-ee920cddfd7f │ Drive Motor Overload        │ 205.5              │\n",
       "│ 44d3afce-8bc3-4269-9c1b-f630aedb9668 │ Quality Sample Check        │ 9.301428571428572  │\n",
       "│ 4ff8deef-be87-40bf-adb9-8f2e102c1f23 │ Gearbox Maintenance         │ 623.8              │\n",
       "│ 77322f6a-0ed2-4946-809e-654d9badb16c │ Product Dimension Check     │ 11.37361963190184  │\n",
       "│ 855df54a-6b6e-4b9e-b595-e9bd19316236 │ Material Feed Jam           │ 13.92941176470588  │\n",
       "│ 9827a7b1-16df-4eb5-b1ab-8f3d77d031a7 │ Die Head Cleaning           │ 44.62602739726027  │\n",
       "│ a759c756-9ed0-4a00-8c9f-79f3b4bf4c0a │ Temperature Zone Deviation  │ 26.620754716981132 │\n",
       "│ b606124a-58b9-4fa2-943a-5c2f6482b1ed │ Die Lip Cleaning            │ 28.514285714285716 │\n",
       "│ b912146a-7274-4533-9825-214f48b41a6f │ Bearing Temperature Alert   │ 85.3               │\n",
       "│ c1f0d60c-27ef-4c46-8c07-6977c0123e23 │ Hopper Level Warning        │ 8.80062893081761   │\n",
       "│ d0f0c31b-9368-4155-9ad9-b8a9f4755b88 │ Vacuum System Maintenance   │ 60.08              │\n",
       "│ dfc5fa17-0fda-4bd6-9258-2d93df449f8f │ Material Changeover         │ 127.41904761904763 │\n",
       "│ f1024d23-09ec-46e6-8cbd-e026c6c19294 │ Material Contamination      │ 110.43055555555556 │\n",
       "└──────────────────────────────────────┴─────────────────────────────┴────────────────────┘\n"
      ]
     },
     "metadata": {},
     "output_type": "display_data"
    },
    {
     "data": {
      "text/html": [
       "<pre style=\"white-space:pre;overflow-x:auto;line-height:normal;font-family:Menlo,'DejaVu Sans Mono',consolas,'Courier New',monospace\"></pre>\n"
      ],
      "text/plain": []
     },
     "metadata": {},
     "output_type": "display_data"
    },
    {
     "data": {
      "text/html": [
       "<pre style=\"white-space:pre;overflow-x:auto;line-height:normal;font-family:Menlo,'DejaVu Sans Mono',consolas,'Courier New',monospace\">\n",
       "<span style=\"color: #808000; text-decoration-color: #808000; font-weight: bold\">¡Hasta luego!</span>\n",
       "</pre>\n"
      ],
      "text/plain": [
       "\n",
       "\u001b[1;33m¡Hasta luego!\u001b[0m\n"
      ]
     },
     "metadata": {},
     "output_type": "display_data"
    }
   ],
   "source": [
    "try:\n",
    "    conn = setup_database(db_name=\"stops.db\")\n",
    "    load_data_to_db(conn, csv_file=\"simulated_stops.csv\")\n",
    "    llm, prompt = create_sql_generator()\n",
    "    display_welcome()\n",
    "\n",
    "    while True:\n",
    "        try:\n",
    "            from IPython import get_ipython\n",
    "            is_notebook = get_ipython() is not None\n",
    "        except ImportError:\n",
    "            is_notebook = False\n",
    "            \n",
    "        if is_notebook:\n",
    "            question = input(TEXTOS[\"prompt_pregunta\"])\n",
    "        else:\n",
    "            question = Prompt.ask(TEXTOS[\"prompt_pregunta\"])\n",
    "        \n",
    "        if question.lower() == 'exit':\n",
    "            console.print(TEXTOS[\"despedida\"])\n",
    "            break\n",
    "            \n",
    "        try:\n",
    "            messages = prompt.format_messages(question=question)\n",
    "            \n",
    "            with console.status(TEXTOS[\"generando_sql\"]) as status:\n",
    "                response = llm.invoke(messages)\n",
    "                sql_query = response.content.strip()\n",
    "            \n",
    "            with console.status(TEXTOS[\"ejecutando_query\"]) as status:\n",
    "                results, error = execute_query(conn, sql_query)\n",
    "                display_query_result(sql_query, results, error)\n",
    "            \n",
    "        except Exception as e:\n",
    "            logger.error(f\"Error: {str(e)}\")\n",
    "            console.print(f\"{TEXTOS['error']} {str(e)}\")\n",
    "\n",
    "except Exception as e:\n",
    "    console.print(f\"{TEXTOS['error_fatal']} {str(e)}\")\n",
    "finally:\n",
    "    if 'conn' in locals():\n",
    "        conn.close()"
   ]
  }
 ],
 "metadata": {
  "kernelspec": {
   "display_name": "base",
   "language": "python",
   "name": "python3"
  },
  "language_info": {
   "codemirror_mode": {
    "name": "ipython",
    "version": 3
   },
   "file_extension": ".py",
   "mimetype": "text/x-python",
   "name": "python",
   "nbconvert_exporter": "python",
   "pygments_lexer": "ipython3",
   "version": "3.12.2"
  }
 },
 "nbformat": 4,
 "nbformat_minor": 2
}
